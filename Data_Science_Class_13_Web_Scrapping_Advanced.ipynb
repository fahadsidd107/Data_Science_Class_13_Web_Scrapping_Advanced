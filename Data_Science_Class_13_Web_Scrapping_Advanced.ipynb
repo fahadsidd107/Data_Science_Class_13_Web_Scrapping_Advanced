{
 "cells": [
  {
   "cell_type": "markdown",
   "id": "314c6b51",
   "metadata": {},
   "source": [
    "# SELENIUM (DYNAMIC WEB SCRAPPING)"
   ]
  },
  {
   "cell_type": "code",
   "execution_count": 1,
   "id": "eb9aeb3a",
   "metadata": {},
   "outputs": [],
   "source": [
    "import csv\n",
    "import pandas as pd"
   ]
  },
  {
   "cell_type": "code",
   "execution_count": 2,
   "id": "bef56c57",
   "metadata": {},
   "outputs": [],
   "source": [
    "from selenium.webdriver.common.by import By\n",
    "from selenium.webdriver.support.ui import WebDriverWait\n",
    "from selenium.webdriver.support import expected_conditions as EC\n",
    "\n",
    "from selenium import webdriver\n",
    "from webdriver_manager.chrome import ChromeDriverManager"
   ]
  },
  {
   "cell_type": "code",
   "execution_count": 3,
   "id": "c9a3a22f",
   "metadata": {},
   "outputs": [],
   "source": [
    "def get_page(driver,url):\n",
    "    driver.get(url)\n",
    "    btn_country = WebDriverWait(driver, 20).until(EC.presence_of_element_located((By.CLASS_NAME,\"btn-link\")))\n",
    "    btn_country.click()\n",
    "    \n",
    "    select_country = WebDriverWait(driver,20).until(EC.presence_of_element_located((By.XPATH, \"/html/body/div[5]/div[4]/div/div/div[2]/form/select/option[4]\")))\n",
    "    select_country.click()\n",
    "    \n",
    "    save_country = WebDriverWait(driver,20).until(EC.presence_of_element_located((By.XPATH,\"/html/body/div[5]/div[4]/div/div/div[3]/button[1]\")))\n",
    "    save_country.click()\n",
    "    \n",
    "    line_count = WebDriverWait(driver,20).until(EC.presence_of_element_located((By.XPATH,\"/html/body/div[5]/section[3]/div[2]/section/div[1]/div[3]/select\")))\n",
    "    line_count.click()\n",
    "    \n",
    "    select_count = WebDriverWait(driver,20).until(EC.presence_of_element_located((By.XPATH,\"/html/body/div[5]/section[3]/div[2]/section/div[1]/div[3]/select/option[3]\")))\n",
    "    select_count.click()\n",
    "    \n",
    "    lines = driver.find_elements_by_class_name('product-listing')\n",
    "    \n",
    "    return lines"
   ]
  },
  {
   "cell_type": "code",
   "execution_count": 4,
   "id": "57bfffe5",
   "metadata": {},
   "outputs": [],
   "source": [
    "all_seller = []\n",
    "listing_condition = []\n",
    "all_price = []\n",
    "def get_prices(line):\n",
    "    try:\n",
    "        seller = line.find_element_by_class_name('seller__name').text.strip()\n",
    "    except:\n",
    "        seller = ''\n",
    "    try:\n",
    "        listing_condition = line.find_element_by_class_name('product-listing__condition').text.strip().lower()\n",
    "    except:\n",
    "        listing_condition = ''\n",
    "    try:\n",
    "        price = line.find_element_by_class_name('product-listing__price')\n",
    "    except:\n",
    "        price = ''\n",
    "    \n",
    "    price = price.text\n",
    "    price = float(price.replace('$','').replace(',',''))\n",
    "    all_seller.append(seller) \n",
    "    all_listing_condition(listing_condition)\n",
    "    all_price.append(price)\n",
    "    data = {\n",
    "        'sellers':all_seller,\n",
    "        'listing_condition': all_listing_condition,\n",
    "        'prices':all_price\n",
    "    }\n",
    "    df = pd.DataFrame(data)\n",
    "    df.to_csv('selenium_ex.csv')\n",
    "    \n",
    "    "
   ]
  },
  {
   "cell_type": "code",
   "execution_count": 6,
   "id": "fc387bd0",
   "metadata": {},
   "outputs": [],
   "source": [
    "def main():\n",
    "    url = 'https://www.tcgplayer.com/product/228666/yugioh-genesis-impact-meteonis-drytron?Language=English'\n",
    "    driver = webdriver.Chrome(ChromeDriverManager().install())\n",
    "    lines = get_page(driver,url)\n",
    "    \n",
    "    for line in lines:\n",
    "        get_prices(line)\n",
    "    \n",
    "    data = {\n",
    "        'sellers':all_seller,\n",
    "        'listing_condition': all_listing_condition,\n",
    "        'prices':all_price\n",
    "    }\n",
    "    df = pd.DataFrame(data)\n",
    "    df.to_csv('selenium_ex.csv')\n",
    "        \n",
    "    driver.quit()"
   ]
  },
  {
   "cell_type": "code",
   "execution_count": 7,
   "id": "3503e1f5",
   "metadata": {},
   "outputs": [
    {
     "name": "stderr",
     "output_type": "stream",
     "text": [
      "[WDM] - ====== WebDriver manager ======\n"
     ]
    },
    {
     "name": "stdout",
     "output_type": "stream",
     "text": [
      "\n"
     ]
    },
    {
     "name": "stderr",
     "output_type": "stream",
     "text": [
      "[WDM] - Current google-chrome version is 101.0.4951\n",
      "[WDM] - Get LATEST chromedriver version for 101.0.4951 google-chrome\n",
      "[WDM] - Driver [C:\\Users\\pc\\.wdm\\drivers\\chromedriver\\win32\\101.0.4951.41\\chromedriver.exe] found in cache\n",
      "C:\\Users\\pc\\AppData\\Local\\Temp/ipykernel_11976/3906787728.py:3: DeprecationWarning: executable_path has been deprecated, please pass in a Service object\n",
      "  driver = webdriver.Chrome(ChromeDriverManager().install())\n"
     ]
    },
    {
     "ename": "TimeoutException",
     "evalue": "Message: \nStacktrace:\nBacktrace:\n\tOrdinal0 [0x00ADB8F3+2406643]\n\tOrdinal0 [0x00A6AF31+1945393]\n\tOrdinal0 [0x0095C748+837448]\n\tOrdinal0 [0x009892E0+1020640]\n\tOrdinal0 [0x0098957B+1021307]\n\tOrdinal0 [0x009B6372+1205106]\n\tOrdinal0 [0x009A42C4+1131204]\n\tOrdinal0 [0x009B4682+1197698]\n\tOrdinal0 [0x009A4096+1130646]\n\tOrdinal0 [0x0097E636+976438]\n\tOrdinal0 [0x0097F546+980294]\n\tGetHandleVerifier [0x00D49612+2498066]\n\tGetHandleVerifier [0x00D3C920+2445600]\n\tGetHandleVerifier [0x00B74F2A+579370]\n\tGetHandleVerifier [0x00B73D36+574774]\n\tOrdinal0 [0x00A71C0B+1973259]\n\tOrdinal0 [0x00A76688+1992328]\n\tOrdinal0 [0x00A76775+1992565]\n\tOrdinal0 [0x00A7F8D1+2029777]\n\tBaseThreadInitThunk [0x7584FA29+25]\n\tRtlGetAppContainerNamedObjectPath [0x77687A7E+286]\n\tRtlGetAppContainerNamedObjectPath [0x77687A4E+238]\n",
     "output_type": "error",
     "traceback": [
      "\u001b[1;31m---------------------------------------------------------------------------\u001b[0m",
      "\u001b[1;31mTimeoutException\u001b[0m                          Traceback (most recent call last)",
      "\u001b[1;32m~\\AppData\\Local\\Temp/ipykernel_11976/451043146.py\u001b[0m in \u001b[0;36m<module>\u001b[1;34m\u001b[0m\n\u001b[1;32m----> 1\u001b[1;33m \u001b[0mmain\u001b[0m\u001b[1;33m(\u001b[0m\u001b[1;33m)\u001b[0m\u001b[1;33m\u001b[0m\u001b[1;33m\u001b[0m\u001b[0m\n\u001b[0m",
      "\u001b[1;32m~\\AppData\\Local\\Temp/ipykernel_11976/3906787728.py\u001b[0m in \u001b[0;36mmain\u001b[1;34m()\u001b[0m\n\u001b[0;32m      2\u001b[0m     \u001b[0murl\u001b[0m \u001b[1;33m=\u001b[0m \u001b[1;34m'https://www.tcgplayer.com/product/228666/yugioh-genesis-impact-meteonis-drytron?Language=English'\u001b[0m\u001b[1;33m\u001b[0m\u001b[1;33m\u001b[0m\u001b[0m\n\u001b[0;32m      3\u001b[0m     \u001b[0mdriver\u001b[0m \u001b[1;33m=\u001b[0m \u001b[0mwebdriver\u001b[0m\u001b[1;33m.\u001b[0m\u001b[0mChrome\u001b[0m\u001b[1;33m(\u001b[0m\u001b[0mChromeDriverManager\u001b[0m\u001b[1;33m(\u001b[0m\u001b[1;33m)\u001b[0m\u001b[1;33m.\u001b[0m\u001b[0minstall\u001b[0m\u001b[1;33m(\u001b[0m\u001b[1;33m)\u001b[0m\u001b[1;33m)\u001b[0m\u001b[1;33m\u001b[0m\u001b[1;33m\u001b[0m\u001b[0m\n\u001b[1;32m----> 4\u001b[1;33m     \u001b[0mlines\u001b[0m \u001b[1;33m=\u001b[0m \u001b[0mget_page\u001b[0m\u001b[1;33m(\u001b[0m\u001b[0mdriver\u001b[0m\u001b[1;33m,\u001b[0m\u001b[0murl\u001b[0m\u001b[1;33m)\u001b[0m\u001b[1;33m\u001b[0m\u001b[1;33m\u001b[0m\u001b[0m\n\u001b[0m\u001b[0;32m      5\u001b[0m \u001b[1;33m\u001b[0m\u001b[0m\n\u001b[0;32m      6\u001b[0m     \u001b[1;32mfor\u001b[0m \u001b[0mline\u001b[0m \u001b[1;32min\u001b[0m \u001b[0mlines\u001b[0m\u001b[1;33m:\u001b[0m\u001b[1;33m\u001b[0m\u001b[1;33m\u001b[0m\u001b[0m\n",
      "\u001b[1;32m~\\AppData\\Local\\Temp/ipykernel_11976/997185352.py\u001b[0m in \u001b[0;36mget_page\u001b[1;34m(driver, url)\u001b[0m\n\u001b[0;32m      1\u001b[0m \u001b[1;32mdef\u001b[0m \u001b[0mget_page\u001b[0m\u001b[1;33m(\u001b[0m\u001b[0mdriver\u001b[0m\u001b[1;33m,\u001b[0m\u001b[0murl\u001b[0m\u001b[1;33m)\u001b[0m\u001b[1;33m:\u001b[0m\u001b[1;33m\u001b[0m\u001b[1;33m\u001b[0m\u001b[0m\n\u001b[0;32m      2\u001b[0m     \u001b[0mdriver\u001b[0m\u001b[1;33m.\u001b[0m\u001b[0mget\u001b[0m\u001b[1;33m(\u001b[0m\u001b[0murl\u001b[0m\u001b[1;33m)\u001b[0m\u001b[1;33m\u001b[0m\u001b[1;33m\u001b[0m\u001b[0m\n\u001b[1;32m----> 3\u001b[1;33m     \u001b[0mbtn_country\u001b[0m \u001b[1;33m=\u001b[0m \u001b[0mWebDriverWait\u001b[0m\u001b[1;33m(\u001b[0m\u001b[0mdriver\u001b[0m\u001b[1;33m,\u001b[0m \u001b[1;36m20\u001b[0m\u001b[1;33m)\u001b[0m\u001b[1;33m.\u001b[0m\u001b[0muntil\u001b[0m\u001b[1;33m(\u001b[0m\u001b[0mEC\u001b[0m\u001b[1;33m.\u001b[0m\u001b[0mpresence_of_element_located\u001b[0m\u001b[1;33m(\u001b[0m\u001b[1;33m(\u001b[0m\u001b[0mBy\u001b[0m\u001b[1;33m.\u001b[0m\u001b[0mCLASS_NAME\u001b[0m\u001b[1;33m,\u001b[0m\u001b[1;34m\"btn-link\"\u001b[0m\u001b[1;33m)\u001b[0m\u001b[1;33m)\u001b[0m\u001b[1;33m)\u001b[0m\u001b[1;33m\u001b[0m\u001b[1;33m\u001b[0m\u001b[0m\n\u001b[0m\u001b[0;32m      4\u001b[0m     \u001b[0mbtn_country\u001b[0m\u001b[1;33m.\u001b[0m\u001b[0mclick\u001b[0m\u001b[1;33m(\u001b[0m\u001b[1;33m)\u001b[0m\u001b[1;33m\u001b[0m\u001b[1;33m\u001b[0m\u001b[0m\n\u001b[0;32m      5\u001b[0m \u001b[1;33m\u001b[0m\u001b[0m\n",
      "\u001b[1;32mD:\\anaconda3\\lib\\site-packages\\selenium\\webdriver\\support\\wait.py\u001b[0m in \u001b[0;36muntil\u001b[1;34m(self, method, message)\u001b[0m\n\u001b[0;32m     87\u001b[0m             \u001b[1;32mif\u001b[0m \u001b[0mtime\u001b[0m\u001b[1;33m.\u001b[0m\u001b[0mmonotonic\u001b[0m\u001b[1;33m(\u001b[0m\u001b[1;33m)\u001b[0m \u001b[1;33m>\u001b[0m \u001b[0mend_time\u001b[0m\u001b[1;33m:\u001b[0m\u001b[1;33m\u001b[0m\u001b[1;33m\u001b[0m\u001b[0m\n\u001b[0;32m     88\u001b[0m                 \u001b[1;32mbreak\u001b[0m\u001b[1;33m\u001b[0m\u001b[1;33m\u001b[0m\u001b[0m\n\u001b[1;32m---> 89\u001b[1;33m         \u001b[1;32mraise\u001b[0m \u001b[0mTimeoutException\u001b[0m\u001b[1;33m(\u001b[0m\u001b[0mmessage\u001b[0m\u001b[1;33m,\u001b[0m \u001b[0mscreen\u001b[0m\u001b[1;33m,\u001b[0m \u001b[0mstacktrace\u001b[0m\u001b[1;33m)\u001b[0m\u001b[1;33m\u001b[0m\u001b[1;33m\u001b[0m\u001b[0m\n\u001b[0m\u001b[0;32m     90\u001b[0m \u001b[1;33m\u001b[0m\u001b[0m\n\u001b[0;32m     91\u001b[0m     \u001b[1;32mdef\u001b[0m \u001b[0muntil_not\u001b[0m\u001b[1;33m(\u001b[0m\u001b[0mself\u001b[0m\u001b[1;33m,\u001b[0m \u001b[0mmethod\u001b[0m\u001b[1;33m,\u001b[0m \u001b[0mmessage\u001b[0m\u001b[1;33m=\u001b[0m\u001b[1;34m''\u001b[0m\u001b[1;33m)\u001b[0m\u001b[1;33m:\u001b[0m\u001b[1;33m\u001b[0m\u001b[1;33m\u001b[0m\u001b[0m\n",
      "\u001b[1;31mTimeoutException\u001b[0m: Message: \nStacktrace:\nBacktrace:\n\tOrdinal0 [0x00ADB8F3+2406643]\n\tOrdinal0 [0x00A6AF31+1945393]\n\tOrdinal0 [0x0095C748+837448]\n\tOrdinal0 [0x009892E0+1020640]\n\tOrdinal0 [0x0098957B+1021307]\n\tOrdinal0 [0x009B6372+1205106]\n\tOrdinal0 [0x009A42C4+1131204]\n\tOrdinal0 [0x009B4682+1197698]\n\tOrdinal0 [0x009A4096+1130646]\n\tOrdinal0 [0x0097E636+976438]\n\tOrdinal0 [0x0097F546+980294]\n\tGetHandleVerifier [0x00D49612+2498066]\n\tGetHandleVerifier [0x00D3C920+2445600]\n\tGetHandleVerifier [0x00B74F2A+579370]\n\tGetHandleVerifier [0x00B73D36+574774]\n\tOrdinal0 [0x00A71C0B+1973259]\n\tOrdinal0 [0x00A76688+1992328]\n\tOrdinal0 [0x00A76775+1992565]\n\tOrdinal0 [0x00A7F8D1+2029777]\n\tBaseThreadInitThunk [0x7584FA29+25]\n\tRtlGetAppContainerNamedObjectPath [0x77687A7E+286]\n\tRtlGetAppContainerNamedObjectPath [0x77687A4E+238]\n"
     ]
    }
   ],
   "source": [
    "main()"
   ]
  },
  {
   "cell_type": "code",
   "execution_count": null,
   "id": "37a5bfb5",
   "metadata": {},
   "outputs": [],
   "source": []
  }
 ],
 "metadata": {
  "kernelspec": {
   "display_name": "Python 3 (ipykernel)",
   "language": "python",
   "name": "python3"
  },
  "language_info": {
   "codemirror_mode": {
    "name": "ipython",
    "version": 3
   },
   "file_extension": ".py",
   "mimetype": "text/x-python",
   "name": "python",
   "nbconvert_exporter": "python",
   "pygments_lexer": "ipython3",
   "version": "3.9.7"
  }
 },
 "nbformat": 4,
 "nbformat_minor": 5
}
